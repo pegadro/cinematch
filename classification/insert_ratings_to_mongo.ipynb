{
 "cells": [
  {
   "cell_type": "code",
   "execution_count": 2,
   "metadata": {},
   "outputs": [],
   "source": [
    "import numpy as np\n",
    "from scipy import sparse\n",
    "from utils_classifier import create_bl_ratings_matrix, create_binary_bl_ratings_matrix"
   ]
  },
  {
   "cell_type": "code",
   "execution_count": 3,
   "metadata": {},
   "outputs": [],
   "source": [
    "sparse_ratings_matrix = sparse.load_npz(\"../datasets/custom-ml/sparse_ratings_matrix_10000.npz\")\n",
    "sparse_ratings_matrix_5000 = sparse_ratings_matrix[:,:5000]\n",
    "ratings_matrix_5000 = sparse_ratings_matrix_5000.toarray()"
   ]
  },
  {
   "cell_type": "code",
   "execution_count": 4,
   "metadata": {},
   "outputs": [],
   "source": [
    "bl_ratings_matrix = create_bl_ratings_matrix(ratings_matrix_5000)\n",
    "binary_bl_ratings_matrix = create_binary_bl_ratings_matrix(bl_ratings_matrix)"
   ]
  },
  {
   "cell_type": "code",
   "execution_count": 6,
   "metadata": {},
   "outputs": [
    {
     "data": {
      "text/plain": [
       "array([[-1.,  1.,  1., ..., -1.,  1.,  1.],\n",
       "       [ 1.,  1., -1., ..., -1.,  1.,  1.],\n",
       "       [-1.,  1.,  1., ..., -1.,  1.,  1.],\n",
       "       ...,\n",
       "       [-1., -1., -1., ..., -1., -1., -1.],\n",
       "       [-1., -1., -1., ..., -1., -1., -1.],\n",
       "       [-1., -1., -1., ..., -1., -1., -1.]])"
      ]
     },
     "execution_count": 6,
     "metadata": {},
     "output_type": "execute_result"
    }
   ],
   "source": [
    "bl_ratings_matrix"
   ]
  },
  {
   "cell_type": "code",
   "execution_count": 17,
   "metadata": {},
   "outputs": [],
   "source": [
    "mask = (bl_ratings_matrix == 1) | (bl_ratings_matrix == 0)\n",
    "row_indices, column_indices,  = np.nonzero(mask)\n",
    "data = bl_ratings_matrix[mask]"
   ]
  },
  {
   "cell_type": "markdown",
   "metadata": {},
   "source": [
    "### Insert to mongo"
   ]
  },
  {
   "cell_type": "code",
   "execution_count": 14,
   "metadata": {},
   "outputs": [],
   "source": [
    "from pymongo import MongoClient\n",
    "\n",
    "client = MongoClient(\"mongodb://localhost:27017/\")\n",
    "db = client[\"cinematch_classification\"]\n",
    "collection_ratings_data = db[\"ratings_data\"]"
   ]
  },
  {
   "cell_type": "code",
   "execution_count": 15,
   "metadata": {},
   "outputs": [],
   "source": [
    "ratings_data_id = collection_ratings_data.insert_one({\n",
    "    \"n_users\": 5000,\n",
    "    \"n_movies\": 10000,\n",
    "    \"data\":data.tolist()\n",
    "})"
   ]
  },
  {
   "cell_type": "code",
   "execution_count": 19,
   "metadata": {},
   "outputs": [
    {
     "data": {
      "text/plain": [
       "InsertOneResult(ObjectId('66484b9fd0b4be4b0c4e7406'), acknowledged=True)"
      ]
     },
     "execution_count": 19,
     "metadata": {},
     "output_type": "execute_result"
    }
   ],
   "source": [
    "collection_column_indices = db[\"ratings_column_indices\"]\n",
    "collection_row_indices = db[\"ratings_row_indices\"]\n",
    "\n",
    "collection_column_indices.insert_one({\n",
    "    \"data\": column_indices.tolist(),\n",
    "})\n",
    "\n",
    "collection_row_indices.insert_one({\n",
    "    \"data\": row_indices.tolist()\n",
    "})"
   ]
  }
 ],
 "metadata": {
  "kernelspec": {
   "display_name": ".cinematch",
   "language": "python",
   "name": "python3"
  },
  "language_info": {
   "codemirror_mode": {
    "name": "ipython",
    "version": 3
   },
   "file_extension": ".py",
   "mimetype": "text/x-python",
   "name": "python",
   "nbconvert_exporter": "python",
   "pygments_lexer": "ipython3",
   "version": "3.11.6"
  }
 },
 "nbformat": 4,
 "nbformat_minor": 2
}
