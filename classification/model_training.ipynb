{
 "cells": [
  {
   "cell_type": "code",
   "execution_count": 4,
   "metadata": {},
   "outputs": [],
   "source": [
    "import sys\n",
    "import os\n",
    "\n",
    "current_dir = os.getcwd()\n",
    "parent_dir = os.path.abspath(os.path.join(current_dir, '..'))\n",
    "if parent_dir not in sys.path:\n",
    "    sys.path.insert(0, parent_dir)\n",
    "\n",
    "from recommender.recommender import CFRecommenderClassifier\n",
    "\n",
    "import numpy as np\n",
    "from scipy import sparse\n",
    "from utils_classifier import create_bl_ratings_matrix, create_binary_bl_ratings_matrix"
   ]
  },
  {
   "cell_type": "code",
   "execution_count": 5,
   "metadata": {},
   "outputs": [],
   "source": [
    "sparse_ratings_matrix = sparse.load_npz(\"../datasets/custom-ml/sparse_ratings_matrix_10000.npz\")\n",
    "sparse_ratings_matrix_5000 = sparse_ratings_matrix[:,:5000]\n",
    "ratings_matrix_5000 = sparse_ratings_matrix_5000.toarray()"
   ]
  },
  {
   "cell_type": "code",
   "execution_count": 6,
   "metadata": {},
   "outputs": [],
   "source": [
    "bl_ratings_matrix = create_bl_ratings_matrix(ratings_matrix_5000)\n",
    "binary_bl_ratings_matrix = create_binary_bl_ratings_matrix(bl_ratings_matrix)"
   ]
  },
  {
   "cell_type": "code",
   "execution_count": 7,
   "metadata": {},
   "outputs": [],
   "source": [
    "n_movies, n_users = bl_ratings_matrix.shape\n",
    "\n",
    "cf_recommender_classifier = CFRecommenderClassifier(\n",
    "    n_users=n_users,\n",
    "    n_movies=n_movies,\n",
    "    n_features=400,\n",
    "    max_iterations=300,\n",
    "    learning_rate=0.1\n",
    ")"
   ]
  },
  {
   "cell_type": "code",
   "execution_count": null,
   "metadata": {},
   "outputs": [],
   "source": [
    "cf_recommender_classifier.fit(bl_ratings_matrix, binary_bl_ratings_matrix)"
   ]
  },
  {
   "cell_type": "code",
   "execution_count": null,
   "metadata": {},
   "outputs": [],
   "source": [
    "predictions_matrix = cf_recommender_classifier.predict()"
   ]
  },
  {
   "cell_type": "code",
   "execution_count": null,
   "metadata": {},
   "outputs": [],
   "source": [
    "np.savez_compressed(\"../datasets/custom-ml/classification/movies_latent_factors.npz\", data=cf_recommender_classifier.X)\n",
    "np.savez_compressed(\"../datasets/custom-ml/classification/users_latent_factors.npz\", data=cf_recommender_classifier.W)\n",
    "np.savez_compressed(\"../datasets/custom-ml/classification/intercept_latent_factors.npz\", data=cf_recommender_classifier.b)"
   ]
  }
 ],
 "metadata": {
  "kernelspec": {
   "display_name": ".cinematch",
   "language": "python",
   "name": "python3"
  },
  "language_info": {
   "codemirror_mode": {
    "name": "ipython",
    "version": 3
   },
   "file_extension": ".py",
   "mimetype": "text/x-python",
   "name": "python",
   "nbconvert_exporter": "python",
   "pygments_lexer": "ipython3",
   "version": "3.11.6"
  }
 },
 "nbformat": 4,
 "nbformat_minor": 2
}
