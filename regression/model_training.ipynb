{
 "cells": [
  {
   "cell_type": "code",
   "execution_count": 5,
   "metadata": {},
   "outputs": [],
   "source": [
    "import numpy as np\n",
    "from scipy import sparse"
   ]
  },
  {
   "cell_type": "code",
   "execution_count": 2,
   "metadata": {},
   "outputs": [],
   "source": [
    "sparse_ratings_matrix = sparse.load_npz(\"../datasets/custom-ml/sparse_ratings_matrix_10000.npz\")"
   ]
  },
  {
   "cell_type": "code",
   "execution_count": 9,
   "metadata": {},
   "outputs": [],
   "source": [
    "sparse_ratings_matrix_5000 = sparse_ratings_matrix[:,:5000]\n",
    "ratings_matrix_5000 = sparse_ratings_matrix_5000.toarray()\n",
    "ratings_binary_matrix_5000 = np.where(ratings_matrix_5000 != 0, 1, ratings_matrix_5000)"
   ]
  },
  {
   "cell_type": "code",
   "execution_count": 10,
   "metadata": {},
   "outputs": [],
   "source": [
    "from recommender.recommender import CFRecommenderRegressor, RatingsNormalizer"
   ]
  },
  {
   "cell_type": "code",
   "execution_count": 11,
   "metadata": {},
   "outputs": [],
   "source": [
    "ratings_normalizer_5000 = RatingsNormalizer()\n",
    "ratings_normalizer_5000.fit(ratings_matrix_5000, R=ratings_binary_matrix_5000)\n",
    "ratings_matrix_5000_norm = ratings_normalizer_5000.transform(ratings_matrix_5000)"
   ]
  },
  {
   "cell_type": "code",
   "execution_count": 14,
   "metadata": {},
   "outputs": [],
   "source": [
    "n_movies, n_users = ratings_matrix_5000.shape\n",
    "\n",
    "cf_recommender = CFRecommenderRegressor(\n",
    "    n_users=n_users,\n",
    "    n_movies=n_movies,\n",
    "    n_features=600,\n",
    "    max_iterations=300,\n",
    "    learning_rate=0.01\n",
    ")"
   ]
  },
  {
   "cell_type": "code",
   "execution_count": null,
   "metadata": {},
   "outputs": [],
   "source": [
    "cf_recommender.fit(ratings_matrix_5000_norm, ratings_binary_matrix_5000)"
   ]
  }
 ],
 "metadata": {
  "kernelspec": {
   "display_name": "cinematch",
   "language": "python",
   "name": "python3"
  },
  "language_info": {
   "codemirror_mode": {
    "name": "ipython",
    "version": 3
   },
   "file_extension": ".py",
   "mimetype": "text/x-python",
   "name": "python",
   "nbconvert_exporter": "python",
   "pygments_lexer": "ipython3",
   "version": "3.11.5"
  }
 },
 "nbformat": 4,
 "nbformat_minor": 2
}
