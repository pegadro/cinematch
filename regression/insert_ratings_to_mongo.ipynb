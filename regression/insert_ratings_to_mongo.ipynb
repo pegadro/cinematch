{
 "cells": [
  {
   "cell_type": "code",
   "execution_count": 2,
   "metadata": {},
   "outputs": [],
   "source": [
    "import pandas as pd\n",
    "import numpy as np\n",
    "from scipy import sparse"
   ]
  },
  {
   "cell_type": "code",
   "execution_count": 3,
   "metadata": {},
   "outputs": [],
   "source": [
    "ratings = pd.read_csv(\"./datasets/custom-ml/ratings_10000.csv\")"
   ]
  },
  {
   "cell_type": "code",
   "execution_count": 4,
   "metadata": {},
   "outputs": [],
   "source": [
    "movies_10000_full = pd.read_csv(\"./datasets/custom-ml/movies_10000_full.csv\")\n",
    "movies_10000_full = movies_10000_full.rename(columns={\"Unnamed: 0\": \"index\"})"
   ]
  },
  {
   "cell_type": "code",
   "execution_count": 5,
   "metadata": {},
   "outputs": [],
   "source": [
    "ratings_with_movies_index = ratings.merge(movies_10000_full[[\"index\", \"movieId\"]], on=\"movieId\", how=\"left\")\n",
    "ratings_with_movies_index = ratings_with_movies_index.rename(columns={\"index\": \"movieIndex\"})\n",
    "ratings_with_movies_index = ratings_with_movies_index.drop(\"movieId\", axis=1)"
   ]
  },
  {
   "cell_type": "code",
   "execution_count": 6,
   "metadata": {},
   "outputs": [],
   "source": [
    "data = ratings_with_movies_index[\"rating\"].values\n",
    "column_indices = ratings_with_movies_index[\"userId\"].values\n",
    "row_indices = ratings_with_movies_index[\"movieIndex\"].values"
   ]
  },
  {
   "cell_type": "code",
   "execution_count": 9,
   "metadata": {},
   "outputs": [],
   "source": [
    "n_movies = movies_10000_full.shape[0]\n",
    "n_users = len(ratings_with_movies_index[\"userId\"].unique())\n",
    "sparse_from_ratings = sparse.csr_matrix((data, (row_indices, column_indices)), shape=(n_movies, n_users))"
   ]
  },
  {
   "cell_type": "code",
   "execution_count": 12,
   "metadata": {},
   "outputs": [
    {
     "name": "stdout",
     "output_type": "stream",
     "text": [
      "# of ratings: 32765490\n"
     ]
    }
   ],
   "source": [
    "print(\"# of ratings:\",sparse_from_ratings.nnz)"
   ]
  },
  {
   "cell_type": "code",
   "execution_count": 13,
   "metadata": {},
   "outputs": [],
   "source": [
    "sparse_ratings_5000_users = sparse_from_ratings[:,:5000]"
   ]
  },
  {
   "cell_type": "code",
   "execution_count": 16,
   "metadata": {},
   "outputs": [
    {
     "name": "stdout",
     "output_type": "stream",
     "text": [
      "Data: [5. 5. 5. ... 2. 3. 4.]\n",
      "Column indices: [   1    2    3 ... 4885 4195 4242]\n",
      "Row indices: [   0    0    0 ... 9997 9999 9999]\n"
     ]
    }
   ],
   "source": [
    "data_5000_users = sparse_ratings_5000_users.data\n",
    "column_indices_5000_users = sparse_ratings_5000_users.indices\n",
    "indptr_5000_users = sparse_ratings_5000_users.indptr\n",
    "\n",
    "row_indices_5000_users = np.zeros(len(data_5000_users), dtype=int)\n",
    "\n",
    "start_idx = 0\n",
    "for i in range(len(indptr_5000_users) - 1):\n",
    "    row_length = indptr_5000_users[i + 1] - indptr_5000_users[i]\n",
    "    row_indices_5000_users[start_idx:start_idx + row_length] = i\n",
    "    start_idx += row_length\n",
    "    \n",
    "print(\"Data:\",data_5000_users)\n",
    "print(\"Column indices:\",column_indices_5000_users)\n",
    "print(\"Row indices:\",row_indices_5000_users)"
   ]
  },
  {
   "cell_type": "code",
   "execution_count": 17,
   "metadata": {},
   "outputs": [],
   "source": [
    "# Test if they are the same\n",
    "sparse_ratings_5000_users_rebuilt = sparse.csr_matrix((data_5000_users, (row_indices_5000_users, column_indices_5000_users)), shape=sparse_ratings_5000_users.shape)"
   ]
  },
  {
   "cell_type": "code",
   "execution_count": 18,
   "metadata": {},
   "outputs": [
    {
     "data": {
      "text/plain": [
       "True"
      ]
     },
     "execution_count": 18,
     "metadata": {},
     "output_type": "execute_result"
    }
   ],
   "source": [
    "(sparse_ratings_5000_users != sparse_ratings_5000_users_rebuilt).nnz == 0"
   ]
  },
  {
   "cell_type": "markdown",
   "metadata": {},
   "source": [
    "### Insert to mongo"
   ]
  },
  {
   "cell_type": "code",
   "execution_count": 30,
   "metadata": {},
   "outputs": [],
   "source": [
    "from pymongo import MongoClient\n",
    "\n",
    "client = MongoClient(\"mongodb://localhost:27017/\")\n",
    "db = client[\"cinematch\"]\n",
    "collection_ratings_data = db[\"ratings_data\"]"
   ]
  },
  {
   "cell_type": "code",
   "execution_count": 31,
   "metadata": {},
   "outputs": [],
   "source": [
    "ratings_data_id = collection_ratings_data.insert_one({\n",
    "    \"n_users\": 5000,\n",
    "    \"n_movies\": n_movies,\n",
    "    \"data\":data_5000_users.tolist()\n",
    "})"
   ]
  },
  {
   "cell_type": "code",
   "execution_count": 33,
   "metadata": {},
   "outputs": [
    {
     "data": {
      "text/plain": [
       "ObjectId('66319b299c06afb0e54e82b4')"
      ]
     },
     "execution_count": 33,
     "metadata": {},
     "output_type": "execute_result"
    }
   ],
   "source": [
    "ratings_data_id.inserted_id"
   ]
  },
  {
   "cell_type": "code",
   "execution_count": 34,
   "metadata": {},
   "outputs": [
    {
     "data": {
      "text/plain": [
       "InsertOneResult(ObjectId('66319c069c06afb0e54e82b6'), acknowledged=True)"
      ]
     },
     "execution_count": 34,
     "metadata": {},
     "output_type": "execute_result"
    }
   ],
   "source": [
    "collection_column_indices = db[\"ratings_column_indices\"]\n",
    "collection_row_indices = db[\"ratings_row_indices\"]\n",
    "\n",
    "collection_column_indices.insert_one({\n",
    "    \"ratings_data_id\": ratings_data_id.inserted_id,\n",
    "    \"data\": column_indices_5000_users.tolist(),\n",
    "})\n",
    "\n",
    "collection_row_indices.insert_one({\n",
    "    \"ratings_data_id\": ratings_data_id.inserted_id,\n",
    "    \"data\": row_indices_5000_users.tolist()\n",
    "})"
   ]
  }
 ],
 "metadata": {
  "kernelspec": {
   "display_name": "cinematch",
   "language": "python",
   "name": "python3"
  },
  "language_info": {
   "codemirror_mode": {
    "name": "ipython",
    "version": 3
   },
   "file_extension": ".py",
   "mimetype": "text/x-python",
   "name": "python",
   "nbconvert_exporter": "python",
   "pygments_lexer": "ipython3",
   "version": "3.11.5"
  }
 },
 "nbformat": 4,
 "nbformat_minor": 2
}
