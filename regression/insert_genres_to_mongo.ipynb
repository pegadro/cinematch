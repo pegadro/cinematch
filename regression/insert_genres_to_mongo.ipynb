{
 "cells": [
  {
   "cell_type": "code",
   "execution_count": 1,
   "metadata": {},
   "outputs": [],
   "source": [
    "import pandas as pd\n",
    "import numpy as np"
   ]
  },
  {
   "cell_type": "code",
   "execution_count": 2,
   "metadata": {},
   "outputs": [
    {
     "data": {
      "text/html": [
       "<div>\n",
       "<style scoped>\n",
       "    .dataframe tbody tr th:only-of-type {\n",
       "        vertical-align: middle;\n",
       "    }\n",
       "\n",
       "    .dataframe tbody tr th {\n",
       "        vertical-align: top;\n",
       "    }\n",
       "\n",
       "    .dataframe thead th {\n",
       "        text-align: right;\n",
       "    }\n",
       "</style>\n",
       "<table border=\"1\" class=\"dataframe\">\n",
       "  <thead>\n",
       "    <tr style=\"text-align: right;\">\n",
       "      <th></th>\n",
       "      <th>Unnamed: 0</th>\n",
       "      <th>genres</th>\n",
       "      <th>movieId</th>\n",
       "      <th>poster_url</th>\n",
       "      <th>title</th>\n",
       "      <th>tmdbId</th>\n",
       "    </tr>\n",
       "  </thead>\n",
       "  <tbody>\n",
       "    <tr>\n",
       "      <th>0</th>\n",
       "      <td>0</td>\n",
       "      <td>Crime|Drama</td>\n",
       "      <td>318</td>\n",
       "      <td>https://image.tmdb.org/t/p/original/9cqNxx0GxF...</td>\n",
       "      <td>Shawshank Redemption, The (1994)</td>\n",
       "      <td>278.0</td>\n",
       "    </tr>\n",
       "    <tr>\n",
       "      <th>1</th>\n",
       "      <td>1</td>\n",
       "      <td>Comedy|Drama|Romance|War</td>\n",
       "      <td>356</td>\n",
       "      <td>https://image.tmdb.org/t/p/original/arw2vcBveW...</td>\n",
       "      <td>Forrest Gump (1994)</td>\n",
       "      <td>13.0</td>\n",
       "    </tr>\n",
       "    <tr>\n",
       "      <th>2</th>\n",
       "      <td>2</td>\n",
       "      <td>Comedy|Crime|Drama|Thriller</td>\n",
       "      <td>296</td>\n",
       "      <td>https://image.tmdb.org/t/p/original/d5iIlFn5s0...</td>\n",
       "      <td>Pulp Fiction (1994)</td>\n",
       "      <td>680.0</td>\n",
       "    </tr>\n",
       "    <tr>\n",
       "      <th>3</th>\n",
       "      <td>3</td>\n",
       "      <td>Action|Sci-Fi|Thriller</td>\n",
       "      <td>2571</td>\n",
       "      <td>https://image.tmdb.org/t/p/original/f89U3ADr1o...</td>\n",
       "      <td>Matrix, The (1999)</td>\n",
       "      <td>603.0</td>\n",
       "    </tr>\n",
       "    <tr>\n",
       "      <th>4</th>\n",
       "      <td>4</td>\n",
       "      <td>Crime|Horror|Thriller</td>\n",
       "      <td>593</td>\n",
       "      <td>https://image.tmdb.org/t/p/original/uS9m8OBk1A...</td>\n",
       "      <td>Silence of the Lambs, The (1991)</td>\n",
       "      <td>274.0</td>\n",
       "    </tr>\n",
       "  </tbody>\n",
       "</table>\n",
       "</div>"
      ],
      "text/plain": [
       "   Unnamed: 0                       genres  movieId  \\\n",
       "0           0                  Crime|Drama      318   \n",
       "1           1     Comedy|Drama|Romance|War      356   \n",
       "2           2  Comedy|Crime|Drama|Thriller      296   \n",
       "3           3       Action|Sci-Fi|Thriller     2571   \n",
       "4           4        Crime|Horror|Thriller      593   \n",
       "\n",
       "                                          poster_url  \\\n",
       "0  https://image.tmdb.org/t/p/original/9cqNxx0GxF...   \n",
       "1  https://image.tmdb.org/t/p/original/arw2vcBveW...   \n",
       "2  https://image.tmdb.org/t/p/original/d5iIlFn5s0...   \n",
       "3  https://image.tmdb.org/t/p/original/f89U3ADr1o...   \n",
       "4  https://image.tmdb.org/t/p/original/uS9m8OBk1A...   \n",
       "\n",
       "                              title  tmdbId  \n",
       "0  Shawshank Redemption, The (1994)   278.0  \n",
       "1               Forrest Gump (1994)    13.0  \n",
       "2               Pulp Fiction (1994)   680.0  \n",
       "3                Matrix, The (1999)   603.0  \n",
       "4  Silence of the Lambs, The (1991)   274.0  "
      ]
     },
     "execution_count": 2,
     "metadata": {},
     "output_type": "execute_result"
    }
   ],
   "source": [
    "movies_10000 = pd.read_csv(\"./datasets/custom-ml/movies_10000_full.csv\")\n",
    "movies_10000.head()"
   ]
  },
  {
   "cell_type": "code",
   "execution_count": 20,
   "metadata": {},
   "outputs": [],
   "source": [
    "genres = []\n",
    "for elem in movies_10000[\"genres\"].tolist():\n",
    "    genres += elem.split(\"|\")\n",
    "genres = pd.Series(genres).unique().tolist()[:-1]"
   ]
  },
  {
   "cell_type": "code",
   "execution_count": 19,
   "metadata": {},
   "outputs": [
    {
     "data": {
      "text/plain": [
       "['Crime',\n",
       " 'Drama',\n",
       " 'Comedy',\n",
       " 'Romance',\n",
       " 'War',\n",
       " 'Thriller',\n",
       " 'Action',\n",
       " 'Sci-Fi',\n",
       " 'Horror',\n",
       " 'Adventure',\n",
       " 'Fantasy',\n",
       " 'Animation',\n",
       " 'Children',\n",
       " 'Mystery',\n",
       " 'IMAX',\n",
       " 'Musical',\n",
       " 'Western',\n",
       " 'Film-Noir',\n",
       " 'Documentary',\n",
       " '(no genres listed)']"
      ]
     },
     "execution_count": 19,
     "metadata": {},
     "output_type": "execute_result"
    }
   ],
   "source": [
    "genres"
   ]
  },
  {
   "cell_type": "code",
   "execution_count": 17,
   "metadata": {},
   "outputs": [],
   "source": [
    "from db import db"
   ]
  },
  {
   "cell_type": "code",
   "execution_count": 21,
   "metadata": {},
   "outputs": [],
   "source": [
    "db.save_document(\"genres\", {\n",
    "    \"data\": genres\n",
    "})"
   ]
  },
  {
   "cell_type": "code",
   "execution_count": null,
   "metadata": {},
   "outputs": [],
   "source": []
  }
 ],
 "metadata": {
  "kernelspec": {
   "display_name": ".cinematch",
   "language": "python",
   "name": "python3"
  },
  "language_info": {
   "codemirror_mode": {
    "name": "ipython",
    "version": 3
   },
   "file_extension": ".py",
   "mimetype": "text/x-python",
   "name": "python",
   "nbconvert_exporter": "python",
   "pygments_lexer": "ipython3",
   "version": "3.11.6"
  }
 },
 "nbformat": 4,
 "nbformat_minor": 2
}
